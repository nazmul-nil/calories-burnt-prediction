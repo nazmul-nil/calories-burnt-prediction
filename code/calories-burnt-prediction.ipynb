{
 "cells": [
  {
   "cell_type": "markdown",
   "id": "bf601d6f-7f4f-4512-bb62-23e9a47a86f4",
   "metadata": {},
   "source": [
    "# Calories Burnt Prediction"
   ]
  },
  {
   "cell_type": "markdown",
   "id": "2963aafa-3590-4c17-b033-0f035f1a89f2",
   "metadata": {},
   "source": [
    "## Import dependencies"
   ]
  },
  {
   "cell_type": "code",
   "execution_count": null,
   "id": "e19991d7-79d5-47b0-a5fd-9f337c62381f",
   "metadata": {},
   "outputs": [],
   "source": []
  }
 ],
 "metadata": {
  "kernelspec": {
   "display_name": "Python 3 (ipykernel)",
   "language": "python",
   "name": "python3"
  },
  "language_info": {
   "codemirror_mode": {
    "name": "ipython",
    "version": 3
   },
   "file_extension": ".py",
   "mimetype": "text/x-python",
   "name": "python",
   "nbconvert_exporter": "python",
   "pygments_lexer": "ipython3",
   "version": "3.12.4"
  }
 },
 "nbformat": 4,
 "nbformat_minor": 5
}
